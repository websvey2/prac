{
 "cells": [
  {
   "cell_type": "markdown",
   "metadata": {},
   "source": [
    "## D01 WORKSHOP"
   ]
  },
  {
   "cell_type": "markdown",
   "metadata": {},
   "source": [
    "**문제 0**\n",
    "- 1월부터 12월까지 다음과 같은 형태로 달력이 출력되도록 코드를 작성하세요.\n",
    "```bash\n",
    "1 월\n",
    "일 월 화 수 목 금 토\n",
    "1 2 3 4 5 6 7\n",
    "8 9 10 11 12 13 14\n",
    "15 16 17 18 19 20 21\n",
    "22 23 24 25 26 27 28\n",
    "29 30 31\n",
    "2 월\n",
    "일 월 화 수 목 금 토\n",
    "1 2 3 4 5 6 7\n",
    "8 9 10 11 12 13 14\n",
    "15 16 17 18 19 20 21\n",
    "22 23 24 25 26 27 28\n",
    "```"
   ]
  },
  {
   "cell_type": "code",
   "execution_count": null,
   "metadata": {},
   "outputs": [],
   "source": [
    "# 풀이\n",
    "# sat = {}\n",
    "# for i in range(32):\n",
    "#     if i % 7 == 0:\n",
    "#         sat['토요일']: 'i'}\n",
    "#     elif i % 7 == 1:\n",
    "#         sun = {'일요일': [i]}\n",
    "#     elif i % 7 == 2:\n",
    "#         mon = {'월요일': [i]}\n",
    "#     elif i % 7 == 3:\n",
    "#         tue = {'화요일' : [i]}\n",
    "#     elif i % 7 == 4:\n",
    "#         wed = {'수요일' : [i]}\n",
    "#     elif i % 7 == 5:\n",
    "#         thu = {'목요일': [i]}\n",
    "#     else:\n",
    "#         fri = {'금요일': [i]}\n",
    "# print(fri)\n",
    "mounth = list(range(1, 32))"
   ]
  },
  {
   "cell_type": "code",
   "execution_count": null,
   "metadata": {},
   "outputs": [],
   "source": [
    "calender = {\n",
    "    1:31, 2:28, 3:31, 4:30, 5:31, 6:30,\n",
    "    7:31, 8:31, 9:30, 10:31, 11:30, 12:31\n",
    "}\n",
    "weeks = ['일', '월', '화', '수', '목', '금', '토']\n",
    "for month, count_day in calender.items():\n",
    "    count = 0\n",
    "    print(month, \"월\" )\n",
    "    for day in weeks:\n",
    "        print(day, end=\" \")\n",
    "    print()\n",
    "    \n",
    "    for i in range(1,count_day + 1):\n",
    "        print(i, end=\" \")\n",
    "        count += 1\n",
    "        if count == 7:\n",
    "            print()\n",
    "            count = 0\n",
    "    print(end='\\n\\n')\n",
    "            "
   ]
  },
  {
   "cell_type": "markdown",
   "metadata": {},
   "source": [
    "**문제 1**\n",
    "- 두 개의 정수 n과 m이 주어집니다. 반복문을 사용하지 않고 별(*) 문자를 이용해 가로의 길이가 n, 세로의 길이가 m인 직사각형 형태를 출력해보세요."
   ]
  },
  {
   "cell_type": "code",
   "execution_count": 6,
   "metadata": {},
   "outputs": [],
   "source": [
    "# 문제\n",
    "n = 5\n",
    "m = 9"
   ]
  },
  {
   "cell_type": "code",
   "execution_count": 8,
   "metadata": {},
   "outputs": [
    {
     "name": "stdout",
     "output_type": "stream",
     "text": [
      "*****\n",
      "*****\n",
      "*****\n",
      "*****\n",
      "*****\n",
      "*****\n",
      "*****\n",
      "*****\n",
      "*****\n",
      "\n"
     ]
    }
   ],
   "source": [
    "# 정답\n",
    "print(('*' * n + '\\n')*m)"
   ]
  },
  {
   "cell_type": "markdown",
   "metadata": {},
   "source": [
    "**문제2**\n",
    "- 다음 딕셔너리에서 평균 점수를 출력하시오."
   ]
  },
  {
   "cell_type": "code",
   "execution_count": null,
   "metadata": {},
   "outputs": [],
   "source": [
    "# 문제\n",
    "student = {'python': 80, 'algorithm': 99, 'django': 89, 'flask': 83}"
   ]
  },
  {
   "cell_type": "code",
   "execution_count": null,
   "metadata": {},
   "outputs": [],
   "source": [
    "# 정답\n",
    "aver = 0\n",
    "for i in student:\n",
    "    aver += student[i]\n",
    "print(aver/len(student))"
   ]
  },
  {
   "cell_type": "markdown",
   "metadata": {},
   "source": [
    "**문제3**\n",
    "- 다음은 학생들의 혈액형(A, B, AB, O)에 대한 데이터이다. for문을 이용하여 각 혈액형 별 학생수의 합계를 구하시오."
   ]
  },
  {
   "cell_type": "code",
   "execution_count": 11,
   "metadata": {},
   "outputs": [],
   "source": [
    "# 문제\n",
    "blood_types = ['A', 'B', 'A', 'O', 'AB', 'AB', 'O', 'A', 'B', 'O', 'B', 'AB']"
   ]
  },
  {
   "cell_type": "code",
   "execution_count": null,
   "metadata": {},
   "outputs": [],
   "source": [
    "# 정답\n",
    "# a = []\n",
    "# b = []\n",
    "# o = []\n",
    "# ab = []\n",
    "# for i in blood_types:\n",
    "#     if 'A' in blood_types:\n",
    "#         a.append(i)\n",
    "#     elif 'B' in blood_types:\n",
    "#         b.append(i)\n",
    "#     elif 'O' in blood_types:\n",
    "#         o.append(i)\n",
    "#     else:\n",
    "#         ab.append(i)\n",
    "# print(a)\n",
    "cnt_a = 0\n",
    "cnt_b = 0\n",
    "cnt_ab = 0\n",
    "cnt_o = 0\n",
    "for i in blood_types:\n",
    "    if 'A' == i:\n",
    "        cnt_a += 1\n",
    "    elif 'B' == i:\n",
    "        cnt_b += 1\n",
    "    elif 'O' == i:\n",
    "        cnt_o += 1\n",
    "    else:\n",
    "        cnt_ab += 1\n",
    "print(cnt_a)\n",
    "print(cnt_b)\n",
    "print(cnt_o)\n",
    "print(cnt_ab)"
   ]
  },
  {
   "cell_type": "code",
   "execution_count": 13,
   "metadata": {},
   "outputs": [
    {
     "name": "stdout",
     "output_type": "stream",
     "text": [
      "{'A': 3, 'B': 3, 'O': 3, 'AB': 3}\n"
     ]
    }
   ],
   "source": [
    "result = {}\n",
    "for blood_type in blood_types:\n",
    "    if blood_type in result:\n",
    "        result[blood_type] += 1\n",
    "    else:\n",
    "        result[blood_type] = 1\n",
    "print(result)"
   ]
  },
  {
   "cell_type": "code",
   "execution_count": 17,
   "metadata": {},
   "outputs": [
    {
     "name": "stdout",
     "output_type": "stream",
     "text": [
      "2\n"
     ]
    }
   ],
   "source": [
    "a = {}\n",
    "b = 1\n",
    "a[b] = 2\n",
    "print(a[b])"
   ]
  }
 ],
 "metadata": {
  "kernelspec": {
   "display_name": "Python 3",
   "language": "python",
   "name": "python3"
  },
  "language_info": {
   "codemirror_mode": {
    "name": "ipython",
    "version": 3
   },
   "file_extension": ".py",
   "mimetype": "text/x-python",
   "name": "python",
   "nbconvert_exporter": "python",
   "pygments_lexer": "ipython3",
   "version": "3.6.7"
  },
  "toc": {
   "base_numbering": 1,
   "nav_menu": {},
   "number_sections": true,
   "sideBar": true,
   "skip_h1_title": false,
   "title_cell": "Table of Contents",
   "title_sidebar": "Contents",
   "toc_cell": false,
   "toc_position": {},
   "toc_section_display": true,
   "toc_window_display": false
  }
 },
 "nbformat": 4,
 "nbformat_minor": 2
}
